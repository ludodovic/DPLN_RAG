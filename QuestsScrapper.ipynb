{
 "cells": [
  {
   "cell_type": "code",
   "execution_count": null,
   "id": "05392e2f-e61a-43fa-9736-67177133817e",
   "metadata": {},
   "outputs": [],
   "source": [
    "from bs4 import BeautifulSoup as bs\n",
    "from slugify import slugify\n",
    "import requests\n",
    "import json\n",
    "import os"
   ]
  },
  {
   "cell_type": "code",
   "execution_count": 74,
   "id": "7ef82dac",
   "metadata": {},
   "outputs": [],
   "source": [
    "if not os.path.exists(\"Quests\"):\n",
    "    os.makedirs(\"Quests\")\n",
    "\n",
    "def add_folder(path):\n",
    "    if not os.path.exists(path):\n",
    "        os.makedirs(path)"
   ]
  },
  {
   "cell_type": "markdown",
   "id": "51547ec3",
   "metadata": {},
   "source": [
    "## Get all quests"
   ]
  },
  {
   "cell_type": "code",
   "execution_count": 3,
   "id": "91836e5b",
   "metadata": {},
   "outputs": [],
   "source": [
    "URL = \"https://www.dofuspourlesnoobs.com/classeacutees-par-succegraves.html\"\n",
    "base_URL = \"https://www.dofuspourlesnoobs.com\"\n",
    "success_index_page = requests.get(URL)\n",
    "success_index_soup = bs(success_index_page.content, \"html.parser\")"
   ]
  },
  {
   "cell_type": "markdown",
   "id": "f82c94e7",
   "metadata": {},
   "source": [
    "### Parse \"Listing des quêtes par succès\" page"
   ]
  },
  {
   "cell_type": "code",
   "execution_count": 12,
   "id": "a1ce81e8",
   "metadata": {},
   "outputs": [],
   "source": [
    "success_info_list = {}\n",
    "\n",
    "success_table = success_index_soup.find_all(\"table\", class_=\"wsite-multicol-table\")\n",
    "success_table_list = [elem.find_all(\"td\", class_=\"wsite-multicol-col\") for elem in success_table]"
   ]
  },
  {
   "cell_type": "markdown",
   "id": "38d9cd35",
   "metadata": {},
   "source": [
    "#### success_table_list :\n",
    "- [0] I- Quêtes par succès\n",
    "- [1] II- Quêtes événementielles par succès (part 1)\n",
    "- [2] II- Quêtes événementielles par succès (part 2)\n",
    "- [3] III- Quêtes non disponibles dans les succès\n",
    "- [4] Anciennes quêtes de Dofus\n",
    "- [5+] Nothing"
   ]
  },
  {
   "cell_type": "code",
   "execution_count": 70,
   "id": "4753c25a",
   "metadata": {},
   "outputs": [],
   "source": [
    "def get_success_list(bs_table_list):\n",
    "    list = {}\n",
    "    succes_group = \"\"\n",
    "    for bs_table_group in bs_table_list:\n",
    "        for bs_table in bs_table_group:\n",
    "            for div in bs_table.find_all(\"div\", class_=\"paragraph\"):\n",
    "                if div.find(\"a\") and succes_group != \"\":\n",
    "                    for link in div.find_all(\"a\"):\n",
    "                        list[succes_group][link.text.strip()] = {\"link\": link[\"href\"], \"quests\" :{}}\n",
    "                else:\n",
    "                    succes_group = div.text.encode('utf-8', 'ignore').decode('utf-8').replace('\\ufeff', '').replace('\\ufefb', '').strip()\n",
    "                    list[succes_group] = {}\n",
    "    return list\n",
    "\n",
    "def get_direct_quests(bs_table_list):\n",
    "    list = {}\n",
    "    for bs_table_group in bs_table_list:\n",
    "        for bs_table in bs_table_group:\n",
    "            for link in bs_table.find_all(\"a\"):\n",
    "                list[link.text.strip()] = link[\"href\"]"
   ]
  },
  {
   "cell_type": "code",
   "execution_count": 83,
   "id": "bc165259",
   "metadata": {},
   "outputs": [],
   "source": [
    "success_index_list = get_success_list([success_table_list[2]])\n",
    "nosuccess_quests = get_success_list([success_table_list[4]])"
   ]
  },
  {
   "cell_type": "code",
   "execution_count": 84,
   "id": "726af875",
   "metadata": {},
   "outputs": [
    {
     "data": {
      "text/plain": [
       "{'Halouine :': {'Halouine.': {'link': '/halouine.html', 'quests': {}},\n",
       "  'Même pas peur.': {'link': '/meme-pas-peur.html', 'quests': {}}},\n",
       " 'Île de Pwâk\\xa0:': {'Île de Pwâk.': {'link': '/ile-de-pwak.html',\n",
       "   'quests': {}},\n",
       "  'Un brin de mystère.': {'link': '/un-brin-de-mystere.html', 'quests': {}},\n",
       "  'Promenades digestives.': {'link': '/promenades-digestives.html',\n",
       "   'quests': {}}}}"
      ]
     },
     "execution_count": 84,
     "metadata": {},
     "output_type": "execute_result"
    }
   ],
   "source": [
    "success_index_list"
   ]
  },
  {
   "cell_type": "markdown",
   "id": "588ef349",
   "metadata": {},
   "source": [
    "### Get all quests for each success"
   ]
  },
  {
   "cell_type": "code",
   "execution_count": 88,
   "id": "0cc6a9e7",
   "metadata": {},
   "outputs": [],
   "source": [
    "def get_quests_from_succes_page(bs_page):\n",
    "    quests = {}\n",
    "    for link in bs_page.find_all(\"a\"):\n",
    "        try:\n",
    "            quests[link.text.strip()] = {\"link\": link[\"href\"]}\n",
    "        except Exception as x:\n",
    "            print(\"ERROR :\", x)\n",
    "            quests[\"[ERROR]\"+link.text.strip()] = {\"link\": None, \"error\": x}\n",
    "    return quests\n",
    "\n",
    "def add_quests_to_success(succes_dict):\n",
    "    category = \"\"\n",
    "    for category, success in succes_dict.items():\n",
    "        add_folder(\"Quests/\" + slugify(category))\n",
    "        for success_key, success_elem in success.items():\n",
    "            page_url = f\"{base_URL}{success_elem[\"link\"]}\"\n",
    "            page_soup = bs(requests.get(page_url).content).find(\"div\", id=\"wsite-content\")\n",
    "            success_elem['quests'].update(get_quests_from_succes_page(page_soup))\n",
    "    \n",
    "    return succes_dict"
   ]
  },
  {
   "cell_type": "code",
   "execution_count": null,
   "id": "bee1b873",
   "metadata": {},
   "outputs": [
    {
     "name": "stdout",
     "output_type": "stream",
     "text": [
      "ERROR : 'href'\n",
      "ERROR : 'href'\n",
      "ERROR : 'href'\n",
      "ERROR : 'href'\n",
      "ERROR : 'href'\n",
      "ERROR : 'href'\n",
      "ERROR : 'href'\n",
      "ERROR : 'href'\n",
      "ERROR : 'href'\n",
      "ERROR : 'href'\n",
      "ERROR : 'href'\n",
      "ERROR : 'href'\n",
      "ERROR : 'href'\n",
      "ERROR : 'href'\n",
      "ERROR : 'href'\n",
      "ERROR : 'href'\n"
     ]
    },
    {
     "data": {
      "text/plain": [
       "{'Halouine :': {'Halouine.': {'link': '/halouine.html',\n",
       "   'quests': {'': {'link': '/uploads/1/3/0/1/13010384/20_20_orig.png'},\n",
       "    \"I- Les quêtes d'Halouine.\": {'link': '#quetes'},\n",
       "    \"II- Les donjons d'Halouine.\": {'link': '#donjons'},\n",
       "    \"III- Les objets d'apparat et leur obtention.\": {'link': '#apparats'},\n",
       "    \"IV- L'attitude Halouine.\": {'link': '#attitude'},\n",
       "    \"V- Les friandises d'Halouine.\": {'link': '#friandises'},\n",
       "    \"VI- La malédiction d'Halouine.\": {'link': '#malediction'},\n",
       "    'VII- Ornements, titres, émoticônes, havre-sac.': {'link': '#ornements'},\n",
       "    '[ERROR]': {'link': None, 'error': KeyError('href')},\n",
       "    'Même pas peur': {'link': '/meme-pas-peur.html'},\n",
       "    'Des bonbons ou un sort.': {'link': '/des-bonbons-ou-un-sort.html'},\n",
       "    'Une Citwouille pour Halouine.': {'link': '/une-citwouille-pour-halouine.html'},\n",
       "    'Le rituel de la bière.': {'link': '/le-rituel-de-la-biere.html'},\n",
       "    'Une friandise pas comme les autres.': {'link': '/une-friandise-pas-comme-les-autres.html'},\n",
       "    \"donjon Potager d'Halouine\": {'link': '/potager-dhalouine.html'},\n",
       "    '> Plus de détails sur le combat contre Malice.': {'link': '/malice.html'},\n",
       "    'le jeu sur le site officiel': {'link': 'https://www.dofus.com/fr/mmorpg/actualites/news/924691-halouine-grattez-harnachez'},\n",
       "    'Accueil': {'link': '/'},\n",
       "    'Quêtes': {'link': '/quecirctes.html'}}},\n",
       "  'Même pas peur.': {'link': '/meme-pas-peur.html',\n",
       "   'quests': {'Des bonbons ou un sort.': {'link': '/des-bonbons-ou-un-sort.html'},\n",
       "    'Une Citwouille pour Halouine.': {'link': '/une-citwouille-pour-halouine.html'},\n",
       "    'Le rituel de la bière.': {'link': '/le-rituel-de-la-biere.html'},\n",
       "    'Une friandise pas comme les autres.': {'link': '/une-friandise-pas-comme-les-autres.html'}}}},\n",
       " 'Île de Pwâk\\xa0:': {'Île de Pwâk.': {'link': '/ile-de-pwak.html',\n",
       "   'quests': {'': {'link': '/uploads/1/3/0/1/13010384/14_30_orig.png'},\n",
       "    \"I- Présentation de l'événement.\": {'link': '#presentation'},\n",
       "    'II- Les quêtes de Pwâk.': {'link': '#quetes'},\n",
       "    'Liste des quêtes': {'link': '#liste-des-quetes'},\n",
       "    \"Ce qu'il faut prévoir.\": {'link': '#prevoir'},\n",
       "    'III- Les donjons de Pwâk.': {'link': '#donjons'},\n",
       "    'IV- Le Dofus Cacao.': {'link': '#dofus'},\n",
       "    'V- Le magasin de Pwâk et les friandises.': {'link': '#magasin'},\n",
       "    \"VI- Les objets d'apparats de Pwâk.\": {'link': '#apparats'},\n",
       "    'VI- Ornements, Titres et Havre-sac de Pwâk.': {'link': '#ornements'},\n",
       "    '[ERROR]': {'link': None, 'error': KeyError('href')},\n",
       "    'Chocomagie contre chocomancie': {'link': '/chocomagie-contre-chocomancie.html'},\n",
       "    'Les aléas de la Chocolaterie': {'link': '/les-aleas-de-la-chocolaterie.html'},\n",
       "    'Un brin de mystère': {'link': '/un-brin-de-mystere.html'},\n",
       "    \"L'île flottante au chocolat.\": {'link': '/l-ile-flottante-au-chocolat.html'},\n",
       "    'La crise de foi.': {'link': '/la-crise-de-foi.html'},\n",
       "    'Un oeuf à part.': {'link': '/un-oeuf-a-part.html'},\n",
       "    'Chocomagie contre chocomancie.': {'link': '/chocomagie-contre-chocomancie.html'},\n",
       "    'Mystère et oeuf au chocolat.': {'link': '/mystere-et-oeuf-au-chocolat.html'},\n",
       "    'Le cas Kao.': {'link': '/le-cas-kao.html'},\n",
       "    'La mélodie du bonheur.': {'link': '/la-melodie-du-bonheur.html'},\n",
       "    'Promenades digestives': {'link': '/promenades-digestives.html'},\n",
       "    'Chasse aux oeufs de Pwâk.': {'link': '/chasse-aux-oeufs-de-pwak.html'},\n",
       "    'Charli et la Chocolaterie': {'link': '/charli-et-la-chocolaterie.html'},\n",
       "    'La manie du recyclage.': {'link': '/la-manie-du-recyclage.html'},\n",
       "    \"Les problèmes d'une pictopublicephile.\": {'link': '/les-problemes-d-une-pictopublicephile.html'},\n",
       "    'Des croquants à dévorer.': {'link': '/des-croquants-a-devorer.html'},\n",
       "    'Les aléas de la Chocolaterie.': {'link': '/les-aleas-de-la-chocolaterie.html'},\n",
       "    'Jouer au chocolatier.': {'link': '/jouer-au-chocolatier.html'},\n",
       "    'Et paf, ça fait un Shokipik !': {'link': '/et-paf-ca-fait-un-shokipik.html'},\n",
       "    \"L'euphorie des Léporidés.\": {'link': '/l-euphorie-des-leporides.html'},\n",
       "    '\"Les aléas de la Chocolaterie\"': {'link': '/les-aleas-de-la-chocolaterie.html'},\n",
       "    '\"Chocomagie contre chocomancie\"': {'link': '/chocomagie-contre-chocomancie.html'},\n",
       "    'Fonderie des Waddicts': {'link': '/fonderie-des-waddicts.html'},\n",
       "    'Croquanterie': {'link': '/croquanterie.html'},\n",
       "    'Temple du dieu Kao': {'link': '/temple-du-dieu-kao.html'},\n",
       "    'Dofus Cacao': {'link': '/quetes-du-dofus-cacao.html'},\n",
       "    'donjon Fonderie des Waddicts': {'link': '/fonderie-des-waddicts.html'},\n",
       "    'donjon Croquanterie': {'link': '/croquanterie.html'},\n",
       "    'donjon Temple du Dieu Kao': {'link': '/temple-du-dieu-kao.html'},\n",
       "    'Accueil': {'link': '/'},\n",
       "    'Quêtes': {'link': '/quecirctes.html'}}},\n",
       "  'Un brin de mystère.': {'link': '/un-brin-de-mystere.html',\n",
       "   'quests': {\"L'île flottante au chocolat.\": {'link': '/l-ile-flottante-au-chocolat.html'},\n",
       "    'La crise de foi.': {'link': '/la-crise-de-foi.html'},\n",
       "    'Un oeuf à part.': {'link': '/un-oeuf-a-part.html'},\n",
       "    'Chocomagie contre chocomancie.': {'link': '/chocomagie-contre-chocomancie.html'},\n",
       "    'Mystère et oeuf au chocolat.': {'link': '/mystere-et-oeuf-au-chocolat.html'},\n",
       "    'Le cas Kao.': {'link': '/le-cas-kao.html'},\n",
       "    'La mélodie du bonheur.': {'link': '/la-melodie-du-bonheur.html'}}},\n",
       "  'Promenades digestives.': {'link': '/promenades-digestives.html',\n",
       "   'quests': {'Chasse aux oeufs.': {'link': '/chasse-aux-oeufs-de-pwak.html'},\n",
       "    'Charli et la Chocolaterie.': {'link': '/charli-et-la-chocolaterie.html'},\n",
       "    'La manie du recyclage.': {'link': '/la-manie-du-recyclage.html'},\n",
       "    \"Les problèmes d'une pictopublicéphile.\": {'link': '/les-problemes-d-une-pictopublicephile.html'},\n",
       "    'Les aléas de la Chocolaterie.': {'link': '/les-aleas-de-la-chocolaterie.html'},\n",
       "    'Jouer au chocolatier.': {'link': '/jouer-au-chocolatier.html'},\n",
       "    'Et paf, ça fait un Shokipik !': {'link': '/et-paf-ca-fait-un-shokipik.html'},\n",
       "    \"L'euphorie des Léporidés.\": {'link': '/l-euphorie-des-leporides.html'},\n",
       "    'Des croquants à dévorer.': {'link': '/des-croquants-a-devorer.html'}}}}}"
      ]
     },
     "execution_count": 89,
     "metadata": {},
     "output_type": "execute_result"
    },
    {
     "ename": "",
     "evalue": "",
     "output_type": "error",
     "traceback": [
      "\u001b[1;31mThe Kernel crashed while executing code in the current cell or a previous cell. \n",
      "\u001b[1;31mPlease review the code in the cell(s) to identify a possible cause of the failure. \n",
      "\u001b[1;31mClick <a href='https://aka.ms/vscodeJupyterKernelCrash'>here</a> for more info. \n",
      "\u001b[1;31mView Jupyter <a href='command:jupyter.viewOutput'>log</a> for further details."
     ]
    }
   ],
   "source": [
    "add_quests_to_success(success_index_list)\n",
    "success_index_list\n"
   ]
  },
  {
   "cell_type": "markdown",
   "id": "155d751b",
   "metadata": {},
   "source": [
    "## Download all pages"
   ]
  },
  {
   "cell_type": "code",
   "execution_count": 42,
   "id": "fccee911",
   "metadata": {},
   "outputs": [],
   "source": [
    "for key in dungeon_info_list.keys():\n",
    "    dungeon = dungeon_info_list[key]\n",
    "    page_url = f\"{base_URL}{dungeon[\"link\"]}\"\n",
    "    page_soup = bs(requests.get(page_url).content).find(\"div\", id=\"wsite-content\")\n",
    "    for div in page_soup:\n",
    "        string = str(div)\n",
    "        if \"PUBLICITE\" in string or \"data-ad-text\" in string:\n",
    "            div.decompose()\n",
    "    with open(\"Dungeons\" + dungeon[\"link\"], \"w\", encoding=\"utf-8\")as file:\n",
    "        file.write(str(page_soup))\n",
    "    with open(\"Dungeons/txt\" + dungeon[\"link\"], \"w\", encoding=\"utf-8\")as file:\n",
    "        file.write(page_soup.get_text())"
   ]
  }
 ],
 "metadata": {
  "kernelspec": {
   "display_name": "dpln",
   "language": "python",
   "name": "python3"
  },
  "language_info": {
   "codemirror_mode": {
    "name": "ipython",
    "version": 3
   },
   "file_extension": ".py",
   "mimetype": "text/x-python",
   "name": "python",
   "nbconvert_exporter": "python",
   "pygments_lexer": "ipython3",
   "version": "3.13.5"
  }
 },
 "nbformat": 4,
 "nbformat_minor": 5
}

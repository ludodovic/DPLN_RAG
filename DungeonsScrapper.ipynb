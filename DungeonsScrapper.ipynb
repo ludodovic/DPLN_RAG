{
 "cells": [
  {
   "cell_type": "code",
   "execution_count": null,
   "id": "05392e2f-e61a-43fa-9736-67177133817e",
   "metadata": {},
   "outputs": [],
   "source": [
    "from bs4 import BeautifulSoup as bs\n",
    "from slugify import slugify\n",
    "import requests\n",
    "import json\n",
    "import os"
   ]
  },
  {
   "cell_type": "code",
   "execution_count": null,
   "id": "7ef82dac",
   "metadata": {},
   "outputs": [],
   "source": [
    "if not os.path.exists(\"Dungeons\"):\n",
    "    os.makedirs(\"Dungeons\")\n",
    "if not os.path.exists(\"Dungeons/txt\"):\n",
    "    os.makedirs(\"Dungeons/txt\")"
   ]
  },
  {
   "cell_type": "markdown",
   "id": "51547ec3",
   "metadata": {},
   "source": [
    "## Get the index page of all dungeons"
   ]
  },
  {
   "cell_type": "code",
   "execution_count": 33,
   "id": "91836e5b",
   "metadata": {},
   "outputs": [],
   "source": [
    "URL = \"https://www.dofuspourlesnoobs.com/donjons.html\"\n",
    "base_URL = \"https://www.dofuspourlesnoobs.com\"\n",
    "dungeon_index_page = requests.get(URL)\n",
    "dungeon_index_soup = bs(dungeon_index_page.content, \"html.parser\")"
   ]
  },
  {
   "cell_type": "markdown",
   "id": "f82c94e7",
   "metadata": {},
   "source": [
    "### Get all dungeon links"
   ]
  },
  {
   "cell_type": "code",
   "execution_count": 34,
   "id": "a1ce81e8",
   "metadata": {},
   "outputs": [],
   "source": [
    "dungeon_info_list = {}\n",
    "\n",
    "dungeon_table = dungeon_index_soup.find(\"table\", id=\"trier\")\n",
    "dungeon_list = dungeon_table.find(\"tbody\")\n",
    "for dungeon_elem in dungeon_list.find_all(\"tr\"):\n",
    "    dungeon_info = dungeon_elem.find_all(\"td\")\n",
    "    dungeon_info_list[dungeon_info[1].find(\"a\").text.strip()] = {\"link\": dungeon_info[1].find(\"a\")[\"href\"], \"lvl\": dungeon_info[-1].text.strip()}"
   ]
  },
  {
   "cell_type": "code",
   "execution_count": 35,
   "id": "eaa5df9d",
   "metadata": {},
   "outputs": [
    {
     "name": "stdout",
     "output_type": "stream",
     "text": [
      "{'link': '/aquadocircme-de-merkator.html', 'lvl': '200'}\n"
     ]
    }
   ],
   "source": [
    "print(dungeon_info_list[\"Aquadôme de Merkator\"])"
   ]
  },
  {
   "cell_type": "code",
   "execution_count": 45,
   "id": "0cc6a9e7",
   "metadata": {},
   "outputs": [],
   "source": [
    "with open(\"Dungeons/list.json\", \"w\", encoding=\"utf-8\")as file:\n",
    "        json.dump(dungeon_info_list, file)"
   ]
  },
  {
   "cell_type": "markdown",
   "id": "155d751b",
   "metadata": {},
   "source": [
    "## Download all pages"
   ]
  },
  {
   "cell_type": "code",
   "execution_count": null,
   "id": "fccee911",
   "metadata": {},
   "outputs": [],
   "source": [
    "for key in dungeon_info_list.keys():\n",
    "    dungeon = dungeon_info_list[key]\n",
    "    page_url = f\"{base_URL}{dungeon[\"link\"]}\"\n",
    "    page_soup = bs(requests.get(page_url).content).find(\"div\", id=\"wsite-content\")\n",
    "    for div in page_soup:\n",
    "        string = str(div)\n",
    "        if \"PUBLICITE\" in string or \"data-ad-text\" in string:\n",
    "            div.decompose()\n",
    "    with open(\"Dungeons\" + dungeon[\"link\"], \"w\", encoding=\"utf-8\")as file:\n",
    "        file.write(str(page_soup))\n",
    "    with open(\"Dungeons/txt\" + dungeon[\"link\"], \"w\", encoding=\"utf-8\")as file:\n",
    "        file.write(page_soup.get_text())"
   ]
  }
 ],
 "metadata": {
  "kernelspec": {
   "display_name": "dpln",
   "language": "python",
   "name": "python3"
  },
  "language_info": {
   "codemirror_mode": {
    "name": "ipython",
    "version": 3
   },
   "file_extension": ".py",
   "mimetype": "text/x-python",
   "name": "python",
   "nbconvert_exporter": "python",
   "pygments_lexer": "ipython3",
   "version": "3.13.5"
  }
 },
 "nbformat": 4,
 "nbformat_minor": 5
}
